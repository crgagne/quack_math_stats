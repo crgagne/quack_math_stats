{
 "cells": [
  {
   "cell_type": "markdown",
   "metadata": {},
   "source": [
    "# Basic Statistics, Modeling, and the Mathematics Needed \n",
    "\n",
    "### Learning goals:\n",
    "1. learn about simple probability distributions models \n",
    "2. learn about fitting models using calculus\n",
    "3. learn about the differences/similarities between least squares and maximum likelihood. \n",
    "4. learn about representing more complex models (e.g. multivariate regression) using linear algebra \n",
    "\n",
    "\n",
    "There is a lot of material, but don't worry if you don't understand everything. The aim was to try to put as many important concepts as possible in one place. Hopefully, it'll be a good resource moving forward. \n",
    "\n",
    "**If you want me to slow down, just ask!!**\n",
    "\n"
   ]
  },
  {
   "cell_type": "markdown",
   "metadata": {},
   "source": [
    "## Let's get some data\n",
    "\n",
    "We are going to import a set of STAI scores, a commonly used measure for trait anxiety. \n"
   ]
  },
  {
   "cell_type": "code",
   "execution_count": 2,
   "metadata": {},
   "outputs": [
    {
     "data": {
      "text/html": [
       "<div>\n",
       "<style>\n",
       "    .dataframe thead tr:only-child th {\n",
       "        text-align: right;\n",
       "    }\n",
       "\n",
       "    .dataframe thead th {\n",
       "        text-align: left;\n",
       "    }\n",
       "\n",
       "    .dataframe tbody tr th {\n",
       "        vertical-align: top;\n",
       "    }\n",
       "</style>\n",
       "<table border=\"1\" class=\"dataframe\">\n",
       "  <thead>\n",
       "    <tr style=\"text-align: right;\">\n",
       "      <th></th>\n",
       "      <th>STAI_Trait</th>\n",
       "    </tr>\n",
       "  </thead>\n",
       "  <tbody>\n",
       "    <tr>\n",
       "      <th>0</th>\n",
       "      <td>56</td>\n",
       "    </tr>\n",
       "    <tr>\n",
       "      <th>1</th>\n",
       "      <td>50</td>\n",
       "    </tr>\n",
       "    <tr>\n",
       "      <th>2</th>\n",
       "      <td>49</td>\n",
       "    </tr>\n",
       "    <tr>\n",
       "      <th>3</th>\n",
       "      <td>27</td>\n",
       "    </tr>\n",
       "    <tr>\n",
       "      <th>4</th>\n",
       "      <td>35</td>\n",
       "    </tr>\n",
       "  </tbody>\n",
       "</table>\n",
       "</div>"
      ],
      "text/plain": [
       "   STAI_Trait\n",
       "0          56\n",
       "1          50\n",
       "2          49\n",
       "3          27\n",
       "4          35"
      ]
     },
     "execution_count": 2,
     "metadata": {},
     "output_type": "execute_result"
    }
   ],
   "source": [
    "# let's store our data as a dataframe\n",
    "import pandas as pd\n",
    "stai_scores = pd.read_csv('STAI_Scores.csv')\n",
    "stai_scores.head()"
   ]
  },
  {
   "cell_type": "code",
   "execution_count": 3,
   "metadata": {},
   "outputs": [],
   "source": [
    "# but make an x array for computations / plotting\n",
    "x = stai_scores.as_matrix()[:,0]"
   ]
  },
  {
   "cell_type": "markdown",
   "metadata": {},
   "source": [
    "\n",
    "\n",
    "Let's plot our data as a histogram."
   ]
  },
  {
   "cell_type": "code",
   "execution_count": 4,
   "metadata": {},
   "outputs": [
    {
     "data": {
      "text/plain": [
       "<matplotlib.text.Text at 0x112f2ada0>"
      ]
     },
     "execution_count": 4,
     "metadata": {},
     "output_type": "execute_result"
    },
    {
     "data": {
      "image/png": "[encoded data removed]",
      "text/plain": [
       "<matplotlib.figure.Figure at 0x10d38eeb8>"
      ]
     },
     "metadata": {},
     "output_type": "display_data"
    }
   ],
   "source": [
    "import numpy as np\n",
    "import matplotlib.pyplot as plt\n",
    "import seaborn as sns\n",
    "%matplotlib inline\n",
    "sns.set_style('white')\n",
    "plt.hist(x,bins=20)\n",
    "plt.scatter(x,np.zeros(len(x))-5,color='k')\n",
    "sns.despine()\n",
    "plt.xlabel('STAI Score')\n",
    "plt.ylabel('# people')"
   ]
  },
  {
   "cell_type": "markdown",
   "metadata": {},
   "source": [
    "## Simple Probability Distributions as Models\n",
    "\n",
    "Plotting the data is cool, but can we say more? What if we want to ask a question like: How likely is it that a randomly chosen person has a STAI score greater than 60?\n",
    "\n",
    "To answer this question, we need a **probablistic model** for of our data. \n",
    "\n",
    "First, we'll denote the STAI score of each person as $x_i$. This $x_i$ is called a **random variable**. It is a variable because it takes on different values, and it's random because each of it's possible values are associated with a different probability of occuring. \n",
    "\n",
    "The assignment of probabilities to each of the values of $x_i$ constitute a **probability distribution**, denoted as $p(x_i)$. Continuous valued x's have distributions defined by probability density functons, while discrete valued x's have distributions defined by probality mass functions. In either case, the probabilities must sum (or integrate) to 1 one across all possible values. We often interpret probabilities as long-run frequencies for each value, but they can be interpreted in other ways as well (ie. degrees of certainty).\n",
    "    \n",
    "Our probability distribution for $x_i$ is our probablistic model. And it is really just a quantification of our uncertainty; we can't say what STAI score someone will have, because we don't know anything about them, so we just give different possibilities different probabilities. It's useful to distinguish probablistic models from mechanical or causal models that specifies how phenomenon arises.\n"
   ]
  },
  {
   "cell_type": "markdown",
   "metadata": {},
   "source": [
    "### A Normal Distribution as a Model\n",
    "\n",
    "So for STAI scores, we are going to use a normal (Gaussian) distribution as a model, but there are many more possible distributions we could have chosen.  \n",
    "\n",
    "The probability (density) for any particular $x_i$ and can be calculated using this function (**the probability density function**): \n",
    "\n",
    "$$ p(x_i; \\mu,\\sigma) = \\frac{1}{\\sqrt(2\\pi \\sigma^2)} \\exp{\\frac{-(x_i-\\mu)^2}{2\\sigma^2}} $$\n",
    "\n",
    "Our distribution is parameterized by a mean, $\\mu$ and variance $\\sigma^2$. Parameters come after the ';' in the function input to make it clear that they are specified ahead of time and are not *random*. \n",
    "\n",
    "We can also short-hand our model as: \n",
    "\n",
    "$$ x_i \\sim Norm(\\mu,\\sigma) $$"
   ]
  },
  {
   "cell_type": "markdown",
   "metadata": {},
   "source": [
    "So far, we've just been talking about a single person's score. The model for our entire dataset of n participants is: \n",
    "\n",
    "$$ p(x_1, x_2, ..., x_n; \\mu, \\sigma) = \\prod_i^n  p(x_i; \\mu, \\sigma) $$\n",
    "\n",
    "This is called the **joint probability density** function. We've assumed that the scores for each person are independent of each other; the value of one person's score is not determined by another person's score. This allows us to multiply the individual probability density functions together to form our joint model. This becomes important for model estimation. "
   ]
  },
  {
   "cell_type": "markdown",
   "metadata": {},
   "source": [
    "Let's plot our model, without any data, for the moment. "
   ]
  },
  {
   "cell_type": "code",
   "execution_count": 5,
   "metadata": {
    "collapsed": true
   },
   "outputs": [],
   "source": [
    "# we write down the density function for a single x, using the formula above. \n",
    "def normal_pdf(x,mu,sigma):\n",
    "    return((1.0/np.sqrt(2*np.pi*sigma**2))*np.exp(-1.0*((x-mu)**2)/(2*sigma**2)))"
   ]
  },
  {
   "cell_type": "code",
   "execution_count": 6,
   "metadata": {},
   "outputs": [
    {
     "data": {
      "image/png": "[encoded data removed]",
      "text/plain": [
       "<matplotlib.figure.Figure at 0x112fb9f60>"
      ]
     },
     "metadata": {},
     "output_type": "display_data"
    }
   ],
   "source": [
    "# then we generate a range of possible values for x \n",
    "x = np.arange(0,100,1)\n",
    "\n",
    "# choose some values for mean and variance. \n",
    "mu = 40\n",
    "sigma=10\n",
    "\n",
    "# and we plot the corresponding probability (density) for each value\n",
    "fig,ax = plt.subplots(1,1,figsize=(5,4))\n",
    "ax.plot(x, normal_pdf(x,mu,sigma), 'k-', lw=2, label='frozen pdf')\n",
    "ax.set_title('A guassian probability density function')\n",
    "ax.set_xlabel('STAI')\n",
    "sns.despine()"
   ]
  },
  {
   "cell_type": "markdown",
   "metadata": {},
   "source": [
    "## Fitting A Probability Distribution to Data\n",
    "\n"
   ]
  },
  {
   "cell_type": "markdown",
   "metadata": {},
   "source": [
    "At this point, we've chosen to model our data using a normal distribution, but we still have not chosen parameter values. \n",
    "\n",
    "To choose parameters, we are first going to use an approach called **maximum likelihood** (ML). Intuitively, we are going to look for the parameters that yield the model that best matches our data. Quantitatively, we are going to find the parameter values that maximize the output of our joint probability density function with the data as input. \n",
    "\n",
    "Here however, instead of calling it a joint probability density, we call it a **likelihood function**. Instead of fixing the parameters and inputing data points into the function to calculate their probability, we fix the data and input the parameters into the function to calculate their likelihood. So, we should always say \"the likelihood of the parameters\" and the \"probability of the data\". Here is the likelihood function. \n",
    "\n",
    "\n",
    "$$ L( \\mu, \\sigma; x_1, x_2, ..., x_n) = \\prod_i^n  l(\\mu,\\sigma; x_i) $$\n",
    "\n",
    "We can plot our likelihood function (for a single value) in python, and it'll look exactly the same as before. Take note of the which values are fixed however. \n"
   ]
  },
  {
   "cell_type": "code",
   "execution_count": 8,
   "metadata": {},
   "outputs": [
    {
     "data": {
      "image/png": "[encoded data removed]",
      "text/plain": [
       "<matplotlib.figure.Figure at 0x112f3c6d8>"
      ]
     },
     "metadata": {},
     "output_type": "display_data"
    }
   ],
   "source": [
    "# For the likelihood function, we keep our data fixed \n",
    "x = 20\n",
    "\n",
    "# And vary the parameters (mu in this case, but we could have also varied sigma creating a 2-D likelihood surface)\n",
    "mus = np.arange(0,100,1)\n",
    "\n",
    "# We use the same function as before \n",
    "lik = [normal_pdf(x,mu,10) for mu in mus]\n",
    "\n",
    "# And plot\n",
    "fig,ax = plt.subplots(1,1,figsize=(6,4))\n",
    "ax.plot(mus,lik, 'k-', lw=2, label='frozen pdf')\n",
    "ax.set_title('A guassian likelihood function')\n",
    "ax.set_xlabel('STAI')\n",
    "sns.despine()"
   ]
  },
  {
   "cell_type": "markdown",
   "metadata": {},
   "source": [
    "\n",
    "Next, we are going to choose the parameters that maximize this function. \n",
    "\n",
    "But first... a little calculus. \n"
   ]
  },
  {
   "cell_type": "markdown",
   "metadata": {},
   "source": [
    "## Math Aside 1: Function Max(Min)imization and Calculus\n",
    "\n",
    "\n",
    "### Function maximization with derivatives \n",
    "\n",
    "We have some function f(x). How do we choose the value of x that maximizes the function? Calculus taught us that the slope of the line (the derivative) is 0 at both maxima or minima, so all we have to do to maximize a function is:\n",
    "1. calculate its derivative\n",
    "2. set the derivative equal to 0\n",
    "3. re-arrange for x, so we know which x corresponds to the deriative equal to 0. \n",
    "4. check whether it's a minima or maxima (using 2nd derivative) (though we can often skip this step)\n",
    "\n",
    "For example, let's say we have the function $ f(x) = -3(x-2)^2 + 4 $. It's derivative is $ \\frac{df(x)}{dx}= -6(x-2) $. Setting it equal to zero, $ 0 = -6(x-2) $, and solving, yields $ x = 2 $. \n",
    "\n",
    "\n",
    "Some useful rules: \n",
    "- the derivative of a constant is 0. \n",
    "- chain rule. If F(x)=f(g(x)), then F'(x) = f'(g(x)) = f'(g(x))g'(x). I used this above for (x-2)^2. It's used in almost every derivation you'll ever need to do, so it's worth memorizing. "
   ]
  },
  {
   "cell_type": "markdown",
   "metadata": {},
   "source": [
    "Here's drawing of a function and it derivative (included here mainly to break up the text). For simple functions, we can find the minima or maxima analytically (by hand). However, for some functions (ie. neural networks) we instead need do an iterative process. One iterative process worth mentioning is called gradient descent. \n",
    "\n",
    "\n",
    "<div>\n",
    "<h3 align=\"center\"></h3>\n",
    "<img src=\"./images/derivative.png\" style=\"width: 300px;\"/>\n",
    "\n",
    "</div>\n"
   ]
  },
  {
   "cell_type": "markdown",
   "metadata": {},
   "source": [
    "### Multivariate function maximization with partial derivatives\n",
    "\n",
    "Now we have a function with multiple inputs, say f(x1,x2). We need to find the pair of values that maximizes the function. In order to do this, we can take the derivatives separately for each input variable, set = 0, and solve for that variable. The pair where both slopes are 0, will again correspond to a minima or maxima (for convex functions at least).\n",
    "\n",
    "The derivative for each variable separately is called a **partial derivative**. They are denoted many different ways, but I'll use: $ \\frac{d}{d x_1}f(x_1,x_2) $ and $ \\frac{d}{d x_2}f(x_1,x_2) $ \n",
    "\n",
    "Some useful rules: \n",
    "- the derivative of a term not including the variable of differentiation is also 0. (e.g. $f(x_1,x_2) = x_2^2+x_1$, $ \\frac{d}{dx_2}f(x_1,x_2) = 2x_2$"
   ]
  },
  {
   "cell_type": "markdown",
   "metadata": {},
   "source": [
    "## Back to Fitting our Normal Distribution Model with Maximum Likelihood\n",
    "\n",
    "We left off trying to maximize: \n",
    "\n",
    "$$ L( \\mu, \\sigma; x_1, x_2, ..., x_n) = \\prod_i^n  l(\\mu,\\sigma; x_i) $$\n",
    "\n",
    "\n",
    "### Getting the log likelihood function\n",
    "\n",
    "However, before we take derivatives, it'll be easier if we log() the entire function. This will also help for numerical reasons - we can't multiply more than a few probabilities on a computer before we underflow!\n",
    "\n",
    "So if we log() our likelihood function, \n",
    "\n",
    "$$ log(L( \\mu, \\sigma; x_1, x_2, ..., x_n)) = log(\\prod_i^n  l(\\mu,\\sigma;x_i)) $$\n",
    "\n",
    "We get, noting that Log(A*B) = Log(A)+Log(B):\n",
    "\n",
    "$$ l( \\mu, \\sigma; x_1, x_2, ..., x_n) = \\sum_i^n  log(l(\\mu,\\sigma;x_i))) $$\n",
    "\n",
    "Now we can plug in normal density function:\n",
    "\n",
    "$$  = \\sum_i^n log(\\frac{1}{\\sqrt(2\\pi \\sigma^2)} \\exp{\\frac{-(x_i-\\mu)^2}{2\\sigma^2}}) $$\n",
    "\n",
    "And apply some more rules of logs (e.g. that log(exp(x))=x): \n",
    "\n",
    "$$  = \\sum_i^n  \\frac{1}{2} log(2\\pi)- \\frac{1}{2} log(\\sigma^2)-\\frac{(x_i-\\mu)^2}{2\\sigma^2} $$ \n",
    "\n",
    "Let's group similar terms and move the sum in. This will be our final **loglikelihood function**:  \n",
    "\n",
    "$$ l( \\mu, \\sigma; x) =  \\frac{n}{2}log(2\\pi)- \\frac{n}{2}log(\\sigma^2)-\\frac{1}{2\\sigma^2} \\sum_i^n (x_i-\\mu)^2 $$"
   ]
  },
  {
   "cell_type": "markdown",
   "metadata": {},
   "source": [
    "### Taking Derivatives\n",
    "Now we can take derivatives of this $ l( \\mu, \\sigma; x)$ with respect to (w.r.t) each parameter and set = 0. \n",
    "\n",
    "Let's do the mean $\\mu$ first. \n",
    "\n",
    "$$  \\frac{d}{d\\mu}l( \\mu, \\sigma; x) = 0 + 0 + \\frac{d}{d\\mu}(\\frac{1}{2\\sigma^2} \\sum_i^n (x_i-\\mu)^2) $$ \n",
    "\n",
    "Now we use the chain rule: \n",
    "\n",
    "$$  \\frac{d}{d\\mu}l( \\mu, \\sigma; x) = \\frac{2}{\\sigma^2} \\sum_i^n (x_i-\\mu) $$ \n",
    "\n",
    "We can divide the sigma out and can collect all the same terms: \n",
    "\n",
    "$$  0 = \\sum_i^n (x_i)-n\\mu $$ \n",
    "\n",
    "Then we just re-arange to get $\\mu$.\n",
    "\n",
    "$$   \\mu = \\frac{1}{n} \\sum_i^n (x_i) $$\n",
    "\n",
    "\n",
    "We'll denote this $\\mu$ which maximizes the likelihood function, $\\mu_{ml} $. \n",
    "\n",
    "Here we haven't really talked about sample vs. population means, but we've just shown that the sample mean is the ML estimate if our distribution is a normal distribution!"
   ]
  },
  {
   "cell_type": "markdown",
   "metadata": {},
   "source": [
    "For the variance we have these two terms that depend on $ \\sigma^2$: \n",
    "\n",
    "$$  \\frac{1}{2\\sigma^2} \\sum_i^n (x_i-\\mu)^2 + \\frac{n}{2}log(\\sigma^2) $$ \n",
    "\n",
    "We can follow the steps found here: https://www.statlect.com/fundamentals-of-statistics/normal-distribution-maximum-likelihood\n",
    "\n",
    "To obtain: \n",
    "\n",
    "$$ \\hat \\sigma^2_{ml} = \\frac{1}{n} \\sum_i^n (x_i-\\hat \\mu)^2 $$\n",
    "\n",
    "Notice that the ML estimate is not the same as our typical sample estimate for variance. (There's no n-1). \n"
   ]
  },
  {
   "cell_type": "markdown",
   "metadata": {},
   "source": [
    "Now, let's do maximum likelihood estimation of a gaussian in python. "
   ]
  },
  {
   "cell_type": "code",
   "execution_count": 10,
   "metadata": {
    "collapsed": true
   },
   "outputs": [],
   "source": [
    "# we can do MLE fit using scipy\n",
    "from scipy.stats import norm\n",
    "?norm.fit()"
   ]
  },
  {
   "cell_type": "code",
   "execution_count": 11,
   "metadata": {},
   "outputs": [
    {
     "name": "stdout",
     "output_type": "stream",
     "text": [
      "45.7699757869\n",
      "10.8722660363\n"
     ]
    }
   ],
   "source": [
    "x = stai_scores.as_matrix()[:,0]\n",
    "mu, std = norm.fit(x)\n",
    "print(mu)\n",
    "print(std)"
   ]
  },
  {
   "cell_type": "code",
   "execution_count": 12,
   "metadata": {},
   "outputs": [
    {
     "name": "stdout",
     "output_type": "stream",
     "text": [
      "45.7699757869\n",
      "10.8722660363\n"
     ]
    }
   ],
   "source": [
    "# which matches our hand calculations\n",
    "print(x.mean())\n",
    "print(x.std())\n"
   ]
  },
  {
   "cell_type": "code",
   "execution_count": 13,
   "metadata": {},
   "outputs": [
    {
     "data": {
      "image/png": "[encoded data removed]",
      "text/plain": [
       "<matplotlib.figure.Figure at 0x11345ea58>"
      ]
     },
     "metadata": {},
     "output_type": "display_data"
    }
   ],
   "source": [
    "# we can also plot our fitted distribution. \n",
    "plt.hist(x,normed=True)\n",
    "x = np.arange(0,100,1)\n",
    "plt.plot(x, normal_pdf(x,mu,std), 'k-', lw=2, label='frozen pdf')\n",
    "sns.despine()"
   ]
  },
  {
   "cell_type": "markdown",
   "metadata": {},
   "source": [
    "We can also answer our original question for what is the probability of getting a STAI above 45. For this we'll use the cumulative distributio function (cdf).\n"
   ]
  },
  {
   "cell_type": "code",
   "execution_count": 14,
   "metadata": {},
   "outputs": [
    {
     "name": "stdout",
     "output_type": "stream",
     "text": [
      "P(STAI>60): 0.09529478301141092\n"
     ]
    }
   ],
   "source": [
    "print('P(STAI>60): {0}'.format(1-norm.cdf(60,loc=mu,scale=std)))"
   ]
  },
  {
   "cell_type": "markdown",
   "metadata": {},
   "source": [
    "## Fitting with Least Squares?\n",
    "\n",
    "This will make more sense when we get to regression, but I thought I'd introduce least squares here. \n",
    "\n",
    "**Least squares** is another method for finding parameters of a model, but as part of the procedure, we have no need to specify the probablistic part of the model. \n",
    "\n",
    "In this case, we are just going to parameterize our data with a single parameter $\\hat x$. You can think of this as the best guess we can make of a new data point, given only one parameter to work with. \n",
    "\n",
    "To choose our parameter, we again need some definition of goodness(poorness) of fit. **Least squares loss** is the loss function we often use: $ls(x) = \\sum_i (x_i-\\hat x_i)^2$. This tells us how poorly our single parameter predicts/fits all the other data points. \n",
    "\n",
    "Now, we want to choose $\\hat x$ to minimize this loss. So we can calculate the derivative just like above. \n",
    "\n",
    "\n",
    "$$ \\frac{d}{d\\hat x} ls(x)= \\frac{d}{d\\hat x} \\sum_i (x_i-\\hat x_i)^2 $$\n",
    "$$ \\frac{d}{d\\hat x} ls(x)= 2 \\sum_i^n x_i  -  \\hat x   $$\n",
    "$$ 0 = 2 \\sum_i^n x_i  -  \\hat x   $$\n",
    "$$ \\hat x  = \\frac{1}{n} \\sum x_i  $$\n",
    "\n",
    "So we again get the sample mean again for our least squares parameter. *Different starting point, same answer.*\n",
    "\n"
   ]
  },
  {
   "cell_type": "markdown",
   "metadata": {},
   "source": [
    "## Multivariate Data\n",
    "\n",
    "\n",
    "\n"
   ]
  },
  {
   "cell_type": "markdown",
   "metadata": {},
   "source": [
    "Ok, so now let's add another trait, BDI, which measures symptoms of depression, and some measure of task performance. \n"
   ]
  },
  {
   "cell_type": "code",
   "execution_count": 15,
   "metadata": {
    "collapsed": true
   },
   "outputs": [],
   "source": [
    "# we are just going to generate it randomly\n",
    "bdi = np.random.normal(mu, std, len(stai_scores))\n",
    "stai = np.random.normal(mu, std, len(stai_scores))\n",
    "task_perf = np.random.normal(mu, std, len(stai_scores))"
   ]
  },
  {
   "cell_type": "code",
   "execution_count": 16,
   "metadata": {},
   "outputs": [
    {
     "data": {
      "text/html": [
       "<div>\n",
       "<style>\n",
       "    .dataframe thead tr:only-child th {\n",
       "        text-align: right;\n",
       "    }\n",
       "\n",
       "    .dataframe thead th {\n",
       "        text-align: left;\n",
       "    }\n",
       "\n",
       "    .dataframe tbody tr th {\n",
       "        vertical-align: top;\n",
       "    }\n",
       "</style>\n",
       "<table border=\"1\" class=\"dataframe\">\n",
       "  <thead>\n",
       "    <tr style=\"text-align: right;\">\n",
       "      <th></th>\n",
       "      <th>bdi (x2)</th>\n",
       "      <th>stai (x1)</th>\n",
       "      <th>task_perf (y)</th>\n",
       "    </tr>\n",
       "  </thead>\n",
       "  <tbody>\n",
       "    <tr>\n",
       "      <th>0</th>\n",
       "      <td>33.641666</td>\n",
       "      <td>29.881586</td>\n",
       "      <td>26.430968</td>\n",
       "    </tr>\n",
       "    <tr>\n",
       "      <th>1</th>\n",
       "      <td>32.052881</td>\n",
       "      <td>32.921737</td>\n",
       "      <td>59.727073</td>\n",
       "    </tr>\n",
       "    <tr>\n",
       "      <th>2</th>\n",
       "      <td>39.389517</td>\n",
       "      <td>52.281401</td>\n",
       "      <td>48.960107</td>\n",
       "    </tr>\n",
       "    <tr>\n",
       "      <th>3</th>\n",
       "      <td>23.563198</td>\n",
       "      <td>57.042610</td>\n",
       "      <td>48.905205</td>\n",
       "    </tr>\n",
       "    <tr>\n",
       "      <th>4</th>\n",
       "      <td>52.198715</td>\n",
       "      <td>58.436331</td>\n",
       "      <td>60.154898</td>\n",
       "    </tr>\n",
       "  </tbody>\n",
       "</table>\n",
       "</div>"
      ],
      "text/plain": [
       "    bdi (x2)  stai (x1)  task_perf (y)\n",
       "0  33.641666  29.881586      26.430968\n",
       "1  32.052881  32.921737      59.727073\n",
       "2  39.389517  52.281401      48.960107\n",
       "3  23.563198  57.042610      48.905205\n",
       "4  52.198715  58.436331      60.154898"
      ]
     },
     "execution_count": 16,
     "metadata": {},
     "output_type": "execute_result"
    }
   ],
   "source": [
    "df = pd.DataFrame(data={'task_perf (y)':task_perf,'bdi (x2)':bdi,'stai (x1)':stai})\n",
    "df.head()"
   ]
  },
  {
   "cell_type": "code",
   "execution_count": 17,
   "metadata": {},
   "outputs": [
    {
     "data": {
      "text/plain": [
       "<seaborn.axisgrid.PairGrid at 0x1135ab358>"
      ]
     },
     "execution_count": 17,
     "metadata": {},
     "output_type": "execute_result"
    },
    {
     "data": {
      "image/png": "[encoded data removed]",
      "text/plain": [
       "<matplotlib.figure.Figure at 0x1135ab160>"
      ]
     },
     "metadata": {},
     "output_type": "display_data"
    }
   ],
   "source": [
    "# we can plot our data \n",
    "import seaborn as sns\n",
    "sns.pairplot(df)"
   ]
  },
  {
   "cell_type": "markdown",
   "metadata": {},
   "source": [
    "## (Probablistic) Multivariate Linear Regression\n",
    "\n",
    "Now, we are going to create a model of all 3 variables. Since we have 3 variables, we could be interested in modeling the joint distribution of all 3 as p(y,x1,x2). However, more often we are interested in the effects that some variables have on another. So, instead, we are going to model the conditional probability of p(y|x1,x2).  \n",
    "\n",
    "For regression, we assume that a good way to model p(y,x1,x2) is as a linear combination of our other variables, with some noise. (I've switched to super scripts here to denote each data point). \n",
    "\n",
    "$$y^i = \\beta_0 + \\beta_1 x_1^i  + \\beta_2 x_2^i + \\epsilon^i$$\n",
    "\n",
    "For regression, we often no longer specify a probability distribution for x, p(x). We instead move the randomness to a noise term $\\epsilon$. For most regression analyses, we assume that errors are normally distributed:  \n",
    "\n",
    "$$ e^i \\sim Norm(0,\\sigma) $$\n",
    "\n",
    "\n",
    "So given that, we can equivalently write the model as:\n",
    "\n",
    "$$y^i \\sim Norm(\\beta_0 + \\beta_1 x_1^i  + \\beta_2 x_2^i, \\sigma) $$\n",
    "\n",
    "We have 4 parameters: $( \\beta_0, \\beta_2, \\beta1,\\sigma)$\n",
    "\n",
    "We can also write the model as: \n",
    "\n",
    "$$ p(y|x1,x2;\\beta_0,\\beta_1,\\beta_2,\\sigma)$$\n",
    "\n",
    "\n",
    "Note that '|' means conditional probability while ';' denotes parameters. \n",
    "\n",
    "We can visualize our model as little gaussians at each value of x (here shown with only one x).  "
   ]
  },
  {
   "cell_type": "markdown",
   "metadata": {},
   "source": [
    "\n",
    "<div>\n",
    "<h3 align=\"center\">Linear Regression Model</h3>\n",
    "<img src=\"./images/regression_gaussians.png\" style=\"width: 500px;\"/>\n",
    "\n",
    "</div>"
   ]
  },
  {
   "cell_type": "markdown",
   "metadata": {},
   "source": [
    "## Fitting a Multivariate Regression Model\n",
    "\n",
    "### Maximum Likelihood.. \n",
    "\n",
    "\n",
    "Likelihood function: \n",
    "\n",
    "\n",
    "$$ L(y|x1,x2;\\beta_0,\\beta_1,\\beta_2,\\sigma) = \\prod_i^n p(y|x1,x2;\\beta_0,\\beta_1,\\beta_2,\\sigma) $$\n",
    "\n",
    "LogLikelihood function: \n",
    "\n",
    "\n",
    "$$ l(y|x_1,x_2;\\beta_0,\\beta_1,\\beta_2,\\sigma) = \\sum_i^n p(y^i|x_1^i,x_2^i;\\beta_0,\\beta_1,\\beta_2,\\sigma) $$\n",
    "\n",
    "If we are then looking to take the derivative with respect to each $\\beta$. We can skip all the way too:  \n",
    "\n",
    "$$  \\frac{d}{d\\beta_1}l(y|x_1,x_2;\\beta_0,\\beta_1,\\beta_2,\\sigma) = \\frac{d}{d\\beta_1} (\\frac{1}{2\\sigma^2} \\sum_i^n (\\beta_0 + \\beta_1 x_1  + \\beta_2 x_2-y)^2) $$ \n",
    "\n",
    "But then it get's really, **really** tedious to do the rest of the basic algebra. \n",
    "\n",
    "So we are going to go to linear algebra to make things easier!\n",
    "\n"
   ]
  },
  {
   "cell_type": "markdown",
   "metadata": {},
   "source": [
    "## Our Data and Model with Matrices and Vectors \n",
    "\n",
    "Writing things as vectors and matrices is a short-hand way of working with multidimensional data. But it's more than that - it can give you insights into the problems and models you wouldn't have had. \n",
    "\n",
    "First, let's write our data into vectors. \n",
    "\n",
    "$\\mathbf{y}$ is an $n \\times 1$ vector (where $n$ is the number of datapoints in your dataset). The bold text is used to denote a vector. \n",
    "$$\n",
    "\\begin{bmatrix}\n",
    "y^{(1)}\\\\\n",
    "y^{(2)}\\\\ \n",
    "\\vdots\\\\ \n",
    "y^{(n)}\n",
    "\\end{bmatrix}\n",
    "$$\n",
    "\n",
    "\n",
    "Then, we have a $\\mathbf{x}$  vector for each x variable (BDI or STAI). \n",
    "\n",
    "$$\n",
    "\\begin{bmatrix}\n",
    "x_{1}^{(0)}\\\\\n",
    "x_{1}^{(1)}\\\\ \n",
    "\\vdots\\\\ \n",
    "x_{1}^{(n)}\n",
    "\\end{bmatrix}\n",
    "$$\n",
    "\n",
    "\n",
    "Then, we can stack all of these x vectors together. $\\mathbf{X}$ is a $n \\times k$ vector (where $k$=2 here) (switched to denoting observations by the row index):\n",
    "$$ \n",
    "\\begin{bmatrix}\n",
    "x_{1,1} & \\ldots & x_{1, k} \\\\\n",
    "\\vdots & \\ddots & \\vdots \\\\\n",
    "x_{n,1} & \\ldots & x_{n, k}\n",
    "\\end{bmatrix} \n",
    "$$    \n",
    "    \n",
    "We can also write our parameters as a vector: \n",
    "$$\n",
    "\\begin{bmatrix}\n",
    "\\beta_{0}\\\\\n",
    "\\beta_{1}\\\\ \n",
    "\\vdots\\\\ \n",
    "\\beta_{2}\n",
    "\\end{bmatrix}\n",
    "$$\n"
   ]
  },
  {
   "cell_type": "markdown",
   "metadata": {},
   "source": [
    "All together we get: \n",
    "\n",
    "\n",
    "<div>\n",
    "<h3 align=\"center\"></h3>\n",
    "<img src=\"./images/mlr1.png\" style=\"width: 500px;\"/>\n",
    "\n",
    "</div>\n",
    "\n",
    "\n",
    "Ok, before we go on to estimating the parameters of this model, we need a few more lessons from linear algebra... "
   ]
  },
  {
   "cell_type": "markdown",
   "metadata": {},
   "source": [
    "## Math Aside 2:  Linear Algebra\n",
    "\n",
    "Linear Algebra (LA) is a branch of mathematics concernings vectors (vector spaces) and linear mappings. Why 'algebra'? It's because LA is a new set of rules for manipulating vectors and matrices with operations like addition, multiplication etc. \n",
    "\n"
   ]
  },
  {
   "cell_type": "markdown",
   "metadata": {},
   "source": [
    "### Vectors\n",
    "\n",
    "For our purposes, vectors are just arrays of numbers (called *scalars*), most often observations and predictions. \n",
    "\n",
    "It is often useful to think about visualizing vectors. A vector with 2 elements is a point on a plane, a vector with 3 elements is point in space, and a vector with N elements a point in an N-dimensional space… which most people find hard to imagine.\n"
   ]
  },
  {
   "cell_type": "code",
   "execution_count": 21,
   "metadata": {
    "collapsed": true
   },
   "outputs": [],
   "source": [
    "# Let's create two 2-element vectors\n",
    "u = np.array([2, 5])\n",
    "v = np.array([3, 1])"
   ]
  },
  {
   "cell_type": "code",
   "execution_count": 22,
   "metadata": {},
   "outputs": [
    {
     "data": {
      "image/png": "[encoded data removed]",
      "text/plain": [
       "<matplotlib.figure.Figure at 0x11cf3a4e0>"
      ]
     },
     "metadata": {},
     "output_type": "display_data"
    }
   ],
   "source": [
    "# and visualize them. \n",
    "x_coords, y_coords = zip(u, v)\n",
    "plt.scatter(x_coords, y_coords, color=[\"r\",\"b\"])\n",
    "plt.axis([0, 9, 0, 6])\n",
    "plt.grid()\n",
    "plt.xlabel('STAI')\n",
    "plt.ylabel(\"BDI\")\n",
    "plt.show()\n"
   ]
  },
  {
   "cell_type": "markdown",
   "metadata": {},
   "source": [
    "Vectors can also be represented as arrows."
   ]
  },
  {
   "cell_type": "code",
   "execution_count": 23,
   "metadata": {
    "collapsed": true
   },
   "outputs": [],
   "source": [
    "def plot_vector2d(vector2d, origin=[0, 0], **options):\n",
    "    return plt.arrow(origin[0], origin[1], vector2d[0], vector2d[1],\n",
    "              head_width=0.2, head_length=0.3, length_includes_head=True,\n",
    "              **options)"
   ]
  },
  {
   "cell_type": "code",
   "execution_count": 24,
   "metadata": {},
   "outputs": [
    {
     "data": {
      "image/png": "[encoded data removed]",
      "text/plain": [
       "<matplotlib.figure.Figure at 0x11d35f6a0>"
      ]
     },
     "metadata": {},
     "output_type": "display_data"
    }
   ],
   "source": [
    "plot_vector2d(u, color=\"r\")\n",
    "plot_vector2d(v, color=\"b\")\n",
    "plt.axis([0, 9, 0, 6])\n",
    "plt.grid()\n",
    "plt.show()"
   ]
  },
  {
   "cell_type": "markdown",
   "metadata": {},
   "source": [
    "We can also define the what's called a **norm** of a vector $\\textbf{u}$, denoted as $\\left \\Vert \\textbf{u} \\right \\|$, which is a measures the length (a.k.a. the magnitude) of $\\textbf{u}$. There are multiple possible norms, but the most common one (and the only one we will discuss here) is the Euclidian norm, which is defined as:\n",
    "\n",
    "$\\left \\Vert \\textbf{u} \\right \\| = \\sqrt{\\sum_{i}{\\textbf{u}_i}^2}$\n",
    "\n",
    "**This will come up in maximum likelihood estimation and least squares. **"
   ]
  },
  {
   "cell_type": "markdown",
   "metadata": {},
   "source": [
    "Vectors of same size can be added together. **Addition** is performed *elementwise*:"
   ]
  },
  {
   "cell_type": "code",
   "execution_count": 25,
   "metadata": {},
   "outputs": [
    {
     "name": "stdout",
     "output_type": "stream",
     "text": [
      "  [2 5]\n",
      "+ [3 1]\n",
      "----------\n"
     ]
    },
    {
     "data": {
      "text/plain": [
       "array([5, 6])"
      ]
     },
     "execution_count": 25,
     "metadata": {},
     "output_type": "execute_result"
    }
   ],
   "source": [
    "print(\" \", u)\n",
    "print(\"+\", v)\n",
    "print(\"-\"*10)\n",
    "u + v"
   ]
  },
  {
   "cell_type": "markdown",
   "metadata": {},
   "source": [
    "We can visualize vector addition like this (tip to tail): \n"
   ]
  },
  {
   "cell_type": "code",
   "execution_count": 26,
   "metadata": {},
   "outputs": [
    {
     "data": {
      "image/png": "[encoded data removed]",
      "text/plain": [
       "<matplotlib.figure.Figure at 0x11d371a90>"
      ]
     },
     "metadata": {},
     "output_type": "display_data"
    }
   ],
   "source": [
    "plot_vector2d(u, color=\"r\")\n",
    "plot_vector2d(v, color=\"b\")\n",
    "plot_vector2d(v, origin=u, color=\"b\", linestyle=\"dotted\")\n",
    "plot_vector2d(u, origin=v, color=\"r\", linestyle=\"dotted\")\n",
    "plot_vector2d(u+v, color=\"g\")\n",
    "plt.axis([0, 9, 0, 7])\n",
    "plt.text(0.7, 3, \"u\", color=\"r\", fontsize=18)\n",
    "plt.text(4, 3, \"u\", color=\"r\", fontsize=18)\n",
    "plt.text(1.8, 0.2, \"v\", color=\"b\", fontsize=18)\n",
    "plt.text(3.1, 5.6, \"v\", color=\"b\", fontsize=18)\n",
    "plt.text(2.4, 2.5, \"u+v\", color=\"g\", fontsize=18)\n",
    "plt.grid()\n",
    "plt.show()"
   ]
  },
  {
   "cell_type": "markdown",
   "metadata": {},
   "source": [
    "Vector addition is **commutative**, meaning that $\\textbf{u} + \\textbf{v} = \\textbf{v} + \\textbf{u}$. You can see it on the previous image: following $\\textbf{u}$ *then* $\\textbf{v}$ leads to the same point as following $\\textbf{v}$ *then* $\\textbf{u}$.\n",
    "\n",
    "Vector addition is also **associative**, meaning that $\\textbf{u} + (\\textbf{v} + \\textbf{w}) = (\\textbf{u} + \\textbf{v}) + \\textbf{w}$."
   ]
  },
  {
   "cell_type": "markdown",
   "metadata": {},
   "source": [
    "\n",
    "Vectors can be **multiplied by scalars**. All elements in the vector are multiplied by that number, for example:"
   ]
  },
  {
   "cell_type": "code",
   "execution_count": 27,
   "metadata": {},
   "outputs": [
    {
     "name": "stdout",
     "output_type": "stream",
     "text": [
      "1.5 * [2 5] =\n"
     ]
    },
    {
     "data": {
      "text/plain": [
       "array([ 3. ,  7.5])"
      ]
     },
     "execution_count": 27,
     "metadata": {},
     "output_type": "execute_result"
    }
   ],
   "source": [
    "print(\"1.5 *\", u, \"=\")\n",
    "\n",
    "1.5 * u"
   ]
  },
  {
   "cell_type": "markdown",
   "metadata": {},
   "source": [
    "We can also calculate what's called a **dot product** (also called *scalar product* or *inner product* in the context of the Euclidian space) of two vectors $\\textbf{u}$ and $\\textbf{v}$.  is a useful operation that comes up fairly often in linear algebra. It is noted $\\textbf{u} \\cdot \\textbf{v}$, or sometimes $⟨\\textbf{u}|\\textbf{v}⟩$ and it is defined as:\n",
    "\n",
    "$\\textbf{u} \\cdot \\textbf{v} = \\left \\Vert \\textbf{u} \\right \\| \\times \\left \\Vert \\textbf{v} \\right \\| \\times cos(\\theta)$\n",
    "\n",
    "where $\\theta$ is the angle between $\\textbf{u}$ and $\\textbf{v}$.\n",
    "\n",
    "Another way to calculate the dot product is:\n",
    "\n",
    "$\\textbf{u} \\cdot \\textbf{v} = \\sum_i{\\textbf{u}_i \\times \\textbf{v}_i}$\n",
    "\n",
    "\n",
    "Which demonstrates that it is a really useful way of representing a sum: "
   ]
  },
  {
   "cell_type": "markdown",
   "metadata": {},
   "source": [
    "### Matrices\n",
    "Matrices can often just be thought of as a list of vectors. However, they also can represent and perform linear transformations such rotations, translations and scaling."
   ]
  },
  {
   "cell_type": "markdown",
   "metadata": {},
   "source": [
    "In order to **index a matrix**, we use the number located in the $i^{th}$ row, and $j^{th}$ column of a matrix $X$ is sometimes noted $X_{i,j}$ or $X_{ij}$. \n",
    "\n",
    "$X = \\begin{bmatrix}\n",
    "  x_{1,1} & x_{1,2} & x_{1,3} & \\cdots & x_{1,n}\\\\\n",
    "  x_{2,1} & x_{2,2} & x_{2,3} & \\cdots & x_{2,n}\\\\\n",
    "  x_{3,1} & x_{3,2} & x_{3,3} & \\cdots & x_{3,n}\\\\\n",
    "  \\vdots & \\vdots & \\vdots & \\ddots & \\vdots \\\\\n",
    "  x_{m,1} & x_{m,2} & x_{m,3} & \\cdots & x_{m,n}\\\\\n",
    "\\end{bmatrix}$\n",
    "\n"
   ]
  },
  {
   "cell_type": "markdown",
   "metadata": {},
   "source": [
    "If two matrices $Q$ and $R$ have the same size $m \\times n$, they can be added together. **Addition** is performed *elementwise*: the result is also a $m \\times n$ matrix $S$ where each element is the sum of the elements at the corresponding position: $S_{i,j} = Q_{i,j} + R_{i,j}$\n",
    "\n",
    "$S =\n",
    "\\begin{bmatrix}\n",
    "  Q_{11} + R_{11} & Q_{12} + R_{12} & Q_{13} + R_{13} & \\cdots & Q_{1n} + R_{1n} \\\\\n",
    "  Q_{21} + R_{21} & Q_{22} + R_{22} & Q_{23} + R_{23} & \\cdots & Q_{2n} + R_{2n}  \\\\\n",
    "  Q_{31} + R_{31} & Q_{32} + R_{32} & Q_{33} + R_{33} & \\cdots & Q_{3n} + R_{3n}  \\\\\n",
    "  \\vdots & \\vdots & \\vdots & \\ddots & \\vdots \\\\\n",
    "  Q_{m1} + R_{m1} & Q_{m2} + R_{m2} & Q_{m3} + R_{m3} & \\cdots & Q_{mn} + R_{mn}  \\\\\n",
    "\\end{bmatrix}$\n",
    "\n",
    "For example, let's create a $2 \\times 3$ matric $B$ and compute $A + B$:\n",
    "\n",
    "Addition is **commutative**, meaning that $A + B = B + A$:\n",
    "\n",
    "It is also **associative**, meaning that $A + (B + C) = (A + B) + C$:"
   ]
  },
  {
   "cell_type": "markdown",
   "metadata": {},
   "source": [
    "A matrix $M$ can be **multiplied by a scalar** $\\lambda$. The result is noted $\\lambda M$, and it is a matrix of the same size as $M$ with all elements multiplied by $\\lambda$:\n",
    "\n",
    "$\\lambda M =\n",
    "\\begin{bmatrix}\n",
    "  \\lambda \\times M_{11} & \\lambda \\times M_{12} & \\lambda \\times M_{13} & \\cdots & \\lambda \\times M_{1n} \\\\\n",
    "  \\lambda \\times M_{21} & \\lambda \\times M_{22} & \\lambda \\times M_{23} & \\cdots & \\lambda \\times M_{2n} \\\\\n",
    "  \\lambda \\times M_{31} & \\lambda \\times M_{32} & \\lambda \\times M_{33} & \\cdots & \\lambda \\times M_{3n} \\\\\n",
    "  \\vdots & \\vdots & \\vdots & \\ddots & \\vdots \\\\\n",
    "  \\lambda \\times M_{m1} & \\lambda \\times M_{m2} & \\lambda \\times M_{m3} & \\cdots & \\lambda \\times M_{mn} \\\\\n",
    "\\end{bmatrix}$\n"
   ]
  },
  {
   "cell_type": "markdown",
   "metadata": {},
   "source": [
    "We can also **multiply matrices**, but this is a bit more involved. \n",
    "\n",
    "A matrix $Q$ of size $m \\times n$ can be multiplied by a matrix $R$ of size $n \\times q$. It is noted simply $QR$ without multiplication sign or dot. The result $P$ is an $m \\times q$ matrix where each element is computed as a sum of products:\n",
    "\n",
    "$P_{i,j} = \\sum_{k=1}^n{Q_{i,k} \\times R_{k,j}}$\n",
    "\n",
    "The element at position $i,j$ in the resulting matrix is the sum of the products of elements in row $i$ of matrix $Q$ by the elements in column $j$ of matrix $R$.\n",
    "\n",
    "$P =\n",
    "\\begin{bmatrix}\n",
    "Q_{11} R_{11} + Q_{12} R_{21} + \\cdots + Q_{1n} R_{n1} &\n",
    "  Q_{11} R_{12} + Q_{12} R_{22} + \\cdots + Q_{1n} R_{n2} &\n",
    "    \\cdots &\n",
    "      Q_{11} R_{1q} + Q_{12} R_{2q} + \\cdots + Q_{1n} R_{nq} \\\\\n",
    "Q_{21} R_{11} + Q_{22} R_{21} + \\cdots + Q_{2n} R_{n1} &\n",
    "  Q_{21} R_{12} + Q_{22} R_{22} + \\cdots + Q_{2n} R_{n2} &\n",
    "    \\cdots &\n",
    "      Q_{21} R_{1q} + Q_{22} R_{2q} + \\cdots + Q_{2n} R_{nq} \\\\\n",
    "  \\vdots & \\vdots & \\ddots & \\vdots \\\\\n",
    "Q_{m1} R_{11} + Q_{m2} R_{21} + \\cdots + Q_{mn} R_{n1} &\n",
    "  Q_{m1} R_{12} + Q_{m2} R_{22} + \\cdots + Q_{mn} R_{n2} &\n",
    "    \\cdots &\n",
    "      Q_{m1} R_{1q} + Q_{m2} R_{2q} + \\cdots + Q_{mn} R_{nq}\n",
    "\\end{bmatrix}$\n",
    "\n",
    "You may notice that each element $P_{i,j}$ is the dot product of the row vector $Q_{i,*}$ and the column vector $R_{*,j}$:\n",
    "\n",
    "$P_{i,j} = Q_{i,*} \\cdot R_{*,j}$\n",
    "\n",
    "So we can rewrite $P$ more concisely as:\n",
    "\n",
    "$P =\n",
    "\\begin{bmatrix}\n",
    "Q_{1,*} \\cdot R_{*,1} & Q_{1,*} \\cdot R_{*,2} & \\cdots & Q_{1,*} \\cdot R_{*,q} \\\\\n",
    "Q_{2,*} \\cdot R_{*,1} & Q_{2,*} \\cdot R_{*,2} & \\cdots & Q_{2,*} \\cdot R_{*,q} \\\\\n",
    "\\vdots & \\vdots & \\ddots & \\vdots \\\\\n",
    "Q_{m,*} \\cdot R_{*,1} & Q_{m,*} \\cdot R_{*,2} & \\cdots & Q_{m,*} \\cdot R_{*,q}\n",
    "\\end{bmatrix}$\n",
    "\n",
    "\n",
    " **matrix multiplication is *NOT* commutative**: in general $QR ≠ RQ$\n",
    " \n",
    " On the other hand, **matrix multiplication *is* associative**, meaning that $Q(RS) = (QR)S$. Let's create a $4 \\times 5$ matrix $G$ to illustrate this:\n",
    "\n",
    "\n",
    "It is also ***distributive* over addition** of matrices, meaning that $(Q + R)S = QS + RS$. For example:"
   ]
  },
  {
   "cell_type": "markdown",
   "metadata": {},
   "source": [
    "Sometimes it is useful to transpose a matrix (flip the rows and columns). The transpose of a matrix $M$ is a matrix noted $M^T$ such that the $i^{th}$ row in $M^T$ is equal to the $i^{th}$ column in $M$:\n",
    "\n",
    "$ A^T =\n",
    "\\begin{bmatrix}\n",
    "  10 & 20 & 30 \\\\\n",
    "  40 & 50 & 60\n",
    "\\end{bmatrix}^T =\n",
    "\\begin{bmatrix}\n",
    "  10 & 40 \\\\\n",
    "  20 & 50 \\\\\n",
    "  30 & 60\n",
    "\\end{bmatrix}$\n",
    "\n",
    "In other words, ($A^T)_{i,j}$ = $A_{j,i}$\n"
   ]
  },
  {
   "cell_type": "markdown",
   "metadata": {},
   "source": [
    "## Back Estimating Parameters for our Linear Model  \n",
    "\n",
    "We had our model: \n",
    "\n",
    "$$ \\mathbf{y} = \\mathbf{X}\\mathbf{\\beta} +\\mathbf{e} $$\n",
    "\n",
    "And we want to estimate $\\hat \\beta$. This time let's do least squares estimation from the start and put aside our normal distributions. \n",
    "\n",
    "This time for least squares our $\\hat y$ is a bit more interesting. It's $X\\hat \\beta$. \n",
    "\n",
    "Let's again use our **least squares loss function** between our predictions $\\hat y$ and our data $y$. \n",
    "\n",
    "$$LS(\\mathbf{y}, \\hat{\\mathbf{y}}) = \\sum_{i=1}^j(y_i - \\hat{y}_i)^2 $$\n",
    "\n",
    "We can re-write that in matrix notation (note the use of the norm here): \n",
    "\n",
    "$$\n",
    "\\begin{align}\n",
    "LS(\\mathbf{y}, \\hat{\\mathbf{y}}) &= || \\mathbf{y} - \\hat{\\mathbf{y}}||^2 \\\\\n",
    "&= || \\mathbf{y} - \\mathbf{X}\\beta||^2 \n",
    "\\end{align}\n",
    "$$\n"
   ]
  },
  {
   "cell_type": "markdown",
   "metadata": {},
   "source": [
    "\n",
    "Before we try to minimize this loss, let's expand it out. \n",
    "\n",
    "\n",
    "$$\n",
    "\\begin{align*}\n",
    "LS(\\mathbf{y}, \\hat{\\mathbf{y}}) &= || \\mathbf{y} - \\hat{\\mathbf{y}} ||^2 \\\\\n",
    "&= ||\\mathbf{y} - \\mathbf{Xb}||^2 \\\\\n",
    "&= (\\mathbf{y} - \\mathbf{Xb})^\\top (\\mathbf{y} - \\mathbf{Xb}) \\\\\n",
    "&= (\\mathbf{y}^\\top - \\mathbf{b}^\\top \\mathbf{X}^\\top )(\\mathbf{y} - \\mathbf{Xb}) &&\\text{matrix product } (\\mathbf{AB})^\\top = \\mathbf{B}^\\top \\mathbf{A}^\\top \\\\\n",
    "&= \\mathbf{y}^\\top \\mathbf{y} - \\mathbf{y}^\\top \\mathbf{Xb} - \\mathbf{b}^\\top \\mathbf{X}^\\top \\mathbf{y} + \\mathbf{X}^\\top \\mathbf{b}^\\top\\mathbf{Xb}\n",
    "\\end{align*}\n",
    "$$\n",
    "\n",
    "Looks pretty hairy... \n",
    "\n",
    "But let's pause here for a moment to examine the terms $ \\mathbf{y}^\\top \\mathbf{Xb}$ and $\\mathbf{b}^\\top \\mathbf{X}^\\top \\mathbf{y}$. To begin, let's find the dimensionality of each term. Recall that:\n",
    "- $\\mathbf{y}$ is an $n \\times 1$ vector\n",
    "- $\\mathbf{X}$ is an $n \\times k$ matrix\n",
    "- $\\mathbf{b}$ is a $k \\times 1$ vector\n",
    "\n",
    "Using this information, we can see that both terms are just single scalar values. In particular, for $ \\mathbf{y}^\\top \\mathbf{Xb}$, the inner product $\\mathbf{y}^\\top\\mathbf{X}$ yields an $1 \\times k$ vector, whose product with $\\mathbf{b}$ yields a single number. Similarly, for $\\mathbf{b}^\\top \\mathbf{X}^\\top \\mathbf{y}$ the inner product $\\mathbf{b}^\\top \\mathbf{X}^\\top$ yields a $1 \\times n$ vector, whose product with $\\mathbf{y}$ is also just a single number.\n",
    "\n",
    "Let's dive a bit deeper. In non-matrix notation, $ \\mathbf{y}^\\top \\mathbf{Xb}$ represents the operation:\n",
    "\n",
    "$$\n",
    "\\begin{align}\n",
    "\\sum_{i=1}^{n} y_i  \\left(\\sum_{m=1}^{k} X_{i,m} b_m \\right) = \\sum_{i=1}^{n} \\sum_{m=1}^{k} y_i X_{i,m} b_m\n",
    "\\end{align}\n",
    "$$\n",
    "\n",
    "For $\\mathbf{X}^\\top \\mathbf{b}^\\top \\mathbf{y}$, the operation _exactly the same_:\n",
    "\n",
    "$$\n",
    "\\begin{align}\n",
    "\\sum_{i=1}^{n} y_i \\left(\\sum_{m=1}^{k} b_m X_{i,m}  \\right) = \\sum_{i=1}^{n} \\sum_{m=1}^{k} y_i X_{i,m} b_m\n",
    "\\end{align}\n",
    "$$\n",
    "\n",
    "Hence, we have that\n",
    "\n",
    "$$\\mathbf{X}^\\top \\mathbf{b}^\\top \\mathbf{y} = \\mathbf{y}^\\top \\mathbf{Xb}$$\n",
    "\n",
    "With this in mind, we can simplify our equation for $LS$ to\n",
    "\n",
    "$$LS(\\mathbf{y}, \\hat{\\mathbf{y}}) = \\mathbf{y}^\\top \\mathbf{y} - 2 \\mathbf{y}^\\top \\mathbf{Xb} + \\mathbf{X}^\\top \\mathbf{b}^\\top\\mathbf{Xb}$$"
   ]
  },
  {
   "cell_type": "markdown",
   "metadata": {},
   "source": [
    "Now that we have our equation for $LS$ in terms of the coefficient vector $\\mathbf{b}$, we can go about finding the (partial) derivative with respect to $\\beta$.\n",
    "\n",
    "We have:\n",
    "\n",
    "\\begin{align*}\n",
    "    \\frac{\\partial}{\\partial \\beta} LS &= \\frac{\\partial}{\\partial \\beta} (\\mathbf{y}^\\top \\mathbf{y} - 2 \\mathbf{y}^\\top \\mathbf{X}\\beta + \\mathbf{X}^\\top \\beta^\\top\\mathbf{X}\\beta) \\\\\n",
    "    &= -2 \\mathbf{X}^\\top \\mathbf{y} + 2 \\mathbf{X}^\\top \\mathbf{X}\\beta\n",
    "\\end{align*}\n",
    "\n",
    "Now that we have the formula for the derivative with respect to $\\mathbf{b}$, we can set it to 0 and solve for $\\hat{\\mathbf{b}}$:\n",
    "\n",
    "$$\n",
    "\\begin{align*}\n",
    "    0 = -2 \\mathbf{X}^\\top \\mathbf{y} + 2 \\mathbf{X}^\\top \\mathbf{Xb} \\\\\n",
    "    \\mathbf{X}^\\top \\mathbf{y} = \\mathbf{X}^\\top \\mathbf{Xb}\\\\\n",
    "    \\hat{\\mathbf{b}} = (\\mathbf{X}^\\top \\mathbf{X})^{-1} \\mathbf{X}^\\top \\mathbf{y}\\\\\n",
    "\\end{align*}\n",
    "$$\n",
    "\n",
    "Thus, we now have an analytic formula for the coefficients which minimize the $LS$ given an arbitrary data matrix."
   ]
  },
  {
   "cell_type": "code",
   "execution_count": 28,
   "metadata": {},
   "outputs": [
    {
     "name": "stdout",
     "output_type": "stream",
     "text": [
      "(413, 3)\n",
      "(413, 1)\n"
     ]
    }
   ],
   "source": [
    "# Let's do this in python\n",
    "\n",
    "# first we stack our data\n",
    "X = np.vstack((np.ones(len(bdi)),bdi,stai)).T\n",
    "y = task_perf[:,np.newaxis]\n",
    "\n",
    "print(np.shape(X))\n",
    "print(np.shape(y))\n"
   ]
  },
  {
   "cell_type": "code",
   "execution_count": 29,
   "metadata": {},
   "outputs": [
    {
     "name": "stdout",
     "output_type": "stream",
     "text": [
      "[[  4.44600000e+01]\n",
      " [ -1.60000000e-02]\n",
      " [  3.70000000e-02]]\n"
     ]
    }
   ],
   "source": [
    "# then we can calculate the coefficients by hand.. \n",
    "B = np.dot(np.dot(np.linalg.inv(np.dot(X.T,X)),X.T),y)\n",
    "print(np.round(B,3))"
   ]
  },
  {
   "cell_type": "code",
   "execution_count": 32,
   "metadata": {},
   "outputs": [
    {
     "name": "stdout",
     "output_type": "stream",
     "text": [
      "                            OLS Regression Results                            \n",
      "==============================================================================\n",
      "Dep. Variable:                      y   R-squared:                       0.001\n",
      "Model:                            OLS   Adj. R-squared:                 -0.003\n",
      "Method:                 Least Squares   F-statistic:                    0.2946\n",
      "Date:                Wed, 25 Oct 2017   Prob (F-statistic):              0.745\n",
      "Time:                        01:11:14   Log-Likelihood:                -1593.3\n",
      "No. Observations:                 413   AIC:                             3193.\n",
      "Df Residuals:                     410   BIC:                             3205.\n",
      "Df Model:                           2                                         \n",
      "Covariance Type:            nonrobust                                         \n",
      "==============================================================================\n",
      "                 coef    std err          t      P>|t|      [0.025      0.975]\n",
      "------------------------------------------------------------------------------\n",
      "const         44.4602      3.271     13.590      0.000      38.029      50.891\n",
      "x1            -0.0157      0.051     -0.308      0.758      -0.116       0.085\n",
      "x2             0.0370      0.052      0.717      0.474      -0.064       0.138\n",
      "==============================================================================\n",
      "Omnibus:                        0.165   Durbin-Watson:                   2.016\n",
      "Prob(Omnibus):                  0.921   Jarque-Bera (JB):                0.282\n",
      "Skew:                           0.002   Prob(JB):                        0.868\n",
      "Kurtosis:                       2.872   Cond. No.                         378.\n",
      "==============================================================================\n",
      "\n",
      "Warnings:\n",
      "[1] Standard Errors assume that the covariance matrix of the errors is correctly specified.\n"
     ]
    }
   ],
   "source": [
    "# let's compare to a statistics package.. \n",
    "import statsmodels.api as sm\n",
    "results = sm.OLS(y, X).fit()\n",
    "print(results.summary())"
   ]
  },
  {
   "cell_type": "markdown",
   "metadata": {},
   "source": [
    "## Bonus: Least Hat Estimator as \"Projecting Y onto X\""
   ]
  },
  {
   "cell_type": "markdown",
   "metadata": {},
   "source": [
    "### Projecting a point onto an axis\n",
    "The dot product is also very useful to project points onto an axis. The projection of vector $\\textbf{v}$ onto $\\textbf{u}$'s axis is given by this formula:\n",
    "\n",
    "$\\textbf{proj}_{\\textbf{u}}{\\textbf{v}} = \\dfrac{\\textbf{u} \\cdot \\textbf{v}}{\\left \\Vert \\textbf{u} \\right \\| ^2} \\times \\textbf{u}$\n",
    "\n",
    "Which is equivalent to:\n",
    "\n",
    "$\\textbf{proj}_{\\textbf{u}}{\\textbf{v}} = (\\textbf{v} \\cdot \\hat{\\textbf{u}}) \\times \\hat{\\textbf{u}}$\n",
    "\n",
    "We can visualize it as follows: "
   ]
  },
  {
   "cell_type": "code",
   "execution_count": 33,
   "metadata": {},
   "outputs": [
    {
     "data": {
      "image/png": "[encoded data removed]",
      "text/plain": [
       "<matplotlib.figure.Figure at 0x11cc407b8>"
      ]
     },
     "metadata": {},
     "output_type": "display_data"
    }
   ],
   "source": [
    "import numpy.linalg as LA\n",
    "LA.norm(u)\n",
    "\n",
    "u_normalized = u / LA.norm(u)\n",
    "proj = v.dot(u_normalized) * u_normalized\n",
    "\n",
    "plot_vector2d(u, color=\"r\")\n",
    "plot_vector2d(v, color=\"b\")\n",
    "\n",
    "plot_vector2d(proj, color=\"k\", linestyle=\":\")\n",
    "plt.plot(proj[0], proj[1], \"ko\")\n",
    "\n",
    "plt.plot([proj[0], v[0]], [proj[1], v[1]], \"b:\")\n",
    "\n",
    "plt.text(1, 2, \"$proj_u v$\", color=\"k\", fontsize=18)\n",
    "plt.text(1.8, 0.2, \"$v$\", color=\"b\", fontsize=18)\n",
    "plt.text(0.8, 3, \"$u$\", color=\"r\", fontsize=18)\n",
    "\n",
    "plt.axis([0, 8, 0, 5.5])\n",
    "plt.grid()\n",
    "plt.show()"
   ]
  },
  {
   "cell_type": "markdown",
   "metadata": {},
   "source": [
    "\n",
    "\n",
    "### Matrix multiplication as a linear transformations\n",
    "More generally, any linear transformation $f$ that maps n-dimensional vectors to m-dimensional vectors can be represented as an $m \\times n$ matrix. For example, say $\\textbf{u}$ is a 3-dimensional vector:\n",
    "\n",
    "$\\textbf{u} = \\begin{pmatrix} x \\\\ y \\\\ z \\end{pmatrix}$\n",
    "\n",
    "and $f$ is defined as:\n",
    "\n",
    "$f(\\textbf{u}) = \\begin{pmatrix}\n",
    "ax + by + cz \\\\\n",
    "dx + ey + fz\n",
    "\\end{pmatrix}$\n",
    "\n",
    "This transormation $f$ maps 3-dimensional vectors to 2-dimensional vectors in a linear way (ie. the resulting coordinates only involve sums of multiples of the original coordinates). We can represent this transformation as matrix $F$:\n",
    "\n",
    "$F = \\begin{bmatrix}\n",
    "a & b & c \\\\\n",
    "d & e & f\n",
    "\\end{bmatrix}$\n",
    "\n",
    "Now, to compute $f(\\textbf{u})$ we can simply do a matrix multiplication:\n",
    "\n",
    "$f(\\textbf{u}) = F \\textbf{u}$\n",
    "\n",
    "If we have a matric $G = \\begin{bmatrix}\\textbf{u}_1 & \\textbf{u}_2 & \\cdots & \\textbf{u}_q \\end{bmatrix}$, where each $\\textbf{u}_i$ is a 3-dimensional column vector, then $FG$ results in the linear transformation of all vectors $\\textbf{u}_i$ as defined by the matrix $F$:\n",
    "\n",
    "$FG = \\begin{bmatrix}f(\\textbf{u}_1) & f(\\textbf{u}_2) & \\cdots & f(\\textbf{u}_q) \\end{bmatrix}$\n",
    "\n",
    "To summarize, the matrix on the left hand side of a dot product specifies what linear transormation to apply to the right hand side vectors. This can be used to perform projections and rotations, but any other linear transformation is possible. For example, here is a transformation known as a *shear mapping* (with a flipping of axes). "
   ]
  },
  {
   "cell_type": "markdown",
   "metadata": {},
   "source": [
    "\n",
    "<div>\n",
    "<h3 align=\"center\"></h3>\n",
    "<img src=\"./images/linear_transformation_2d_m1_m1_1_3.png\" style=\"width: 500px;\"/>\n",
    "\n",
    "</div>\n",
    "\n"
   ]
  },
  {
   "cell_type": "markdown",
   "metadata": {},
   "source": [
    "Here's a rotation and an expansion. "
   ]
  },
  {
   "cell_type": "markdown",
   "metadata": {},
   "source": [
    "\n",
    "<div>\n",
    "<h3 align=\"center\"></h3>\n",
    "<img src=\"./images/linear_transformation_2d_m2_0_0_m2.png\" style=\"width: 500px;\"/>\n",
    "\n",
    "</div>\n"
   ]
  },
  {
   "cell_type": "markdown",
   "metadata": {},
   "source": [
    "You can try to imagine you data laying in the 1 by 1 grid and then imagine a matrix multiplication stretching, squeezing, rotating your data. Although I don't have any good examples here, 'loosely' imaging these types of transformations can give you a lot of statistical insight. "
   ]
  },
  {
   "cell_type": "markdown",
   "metadata": {},
   "source": [
    "### Least Squares Estimates as a Projection Matrix \n",
    "Predicted outcomes ŷ are the orthogonal projection of y onto the columnspace of X (that spans a subspace of Rn).\n",
    "\n",
    "$$ \\hat{\\beta} = (\\mathbf{X}^\\top \\mathbf{X})^{-1} \\mathbf{X}^\\top \\mathbf{y}$$"
   ]
  },
  {
   "cell_type": "markdown",
   "metadata": {},
   "source": [
    "\n",
    "<div>\n",
    "<h3 align=\"center\"></h3>\n",
    "<img src=\"./images/ls_projection.png \" style=\"width: 500px;\"/>\n",
    "\n",
    "</div>\n"
   ]
  }
 ],
 "metadata": {
  "kernelspec": {
   "display_name": "Python 3",
   "language": "python",
   "name": "python3"
  },
  "language_info": {
   "codemirror_mode": {
    "name": "ipython",
    "version": 3
   },
   "file_extension": ".py",
   "mimetype": "text/x-python",
   "name": "python",
   "nbconvert_exporter": "python",
   "pygments_lexer": "ipython3",
   "version": "3.6.1"
  }
 },
 "nbformat": 4,
 "nbformat_minor": 2
}
